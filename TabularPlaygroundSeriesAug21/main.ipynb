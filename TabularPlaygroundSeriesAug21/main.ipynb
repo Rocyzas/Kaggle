{
 "cells": [
  {
   "cell_type": "code",
   "execution_count": 44,
   "id": "912a2319-a06a-41b4-806f-f1ee1e1556d5",
   "metadata": {},
   "outputs": [
    {
     "name": "stdout",
     "output_type": "stream",
     "text": [
      "1.3.3\n"
     ]
    }
   ],
   "source": [
    "import numpy as np\n",
    "import pandas as pd\n",
    "import csv\n",
    "import xgboost\n",
    "print(xgboost.__version__)\n",
    "from matplotlib import pyplot\n",
    "import xgboost as xgb\n",
    "from sklearn.model_selection import RepeatedKFold\n",
    "from sklearn.model_selection import cross_val_score\n",
    "from numpy import absolute\n",
    "from pandas import read_csv\n",
    "from sklearn.model_selection import train_test_split\n",
    "\n",
    "from sklearn.decomposition import PCA\n",
    "\n",
    "from sklearn.model_selection import RandomizedSearchCV,GridSearchCV"
   ]
  },
  {
   "cell_type": "code",
   "execution_count": 45,
   "id": "bd86d884-9e02-4178-ae9d-cf3b11525684",
   "metadata": {},
   "outputs": [],
   "source": [
    "test_df = pd.read_csv('test.csv')\n",
    "train_df = pd.read_csv('train.csv')\n",
    "\n",
    "test_df.describe()\n",
    "if train_df.isna().sum().sum() !=0:\n",
    "    train_df = train_df.fillna(train_df.mean())"
   ]
  },
  {
   "cell_type": "code",
   "execution_count": null,
   "id": "ea699bf7-a714-4abb-b471-946d02d8d75a",
   "metadata": {},
   "outputs": [],
   "source": []
  },
  {
   "cell_type": "code",
   "execution_count": 57,
   "id": "402707bf-b380-4c6e-85a2-d05fe46c3605",
   "metadata": {},
   "outputs": [
    {
     "name": "stdout",
     "output_type": "stream",
     "text": [
      "(250000, 5)\n",
      "(250000,)\n",
      "(150000, 5)\n"
     ]
    }
   ],
   "source": [
    "\n",
    "N=5\n",
    "\n",
    "y = train_df.loss\n",
    "X = train_df.drop(columns=['loss'])\n",
    "\n",
    "pca = PCA(n_components=N)\n",
    "principalComponents = pca.fit_transform(X)\n",
    "X = pd.DataFrame(data = principalComponents, columns = [('P' + str(i)) for i in range(N)])\n",
    "\n",
    "principalComponents = pca.fit_transform(test_df)\n",
    "test_df = pd.DataFrame(data = principalComponents, columns = [('P' + str(i)) for i in range(N)])\n",
    "\n",
    "# X_train, X_test, y_train, y_test = train_test_split(X, y, test_size=0.9, random_state=42)\n",
    "X_train = X\n",
    "y_train = y\n",
    "\n",
    "print(X_train.shape)\n",
    "# print(X_test.shape)\n",
    "print(y_train.shape)\n",
    "# print(y_test.shape)\n",
    "\n",
    "print(test_df.shape)\n"
   ]
  },
  {
   "cell_type": "code",
   "execution_count": null,
   "id": "7261e240-4778-46ff-a6c6-6ce9339b7988",
   "metadata": {},
   "outputs": [
    {
     "name": "stdout",
     "output_type": "stream",
     "text": [
      "Fitting 5 folds for each of 36 candidates, totalling 180 fits\n"
     ]
    }
   ],
   "source": [
    "\n",
    "model = xgb.XGBRegressor(subsample=0.7)\n",
    "\n",
    "# reg_cv = GridSearchCV(model, {\"colsample_bytree\":[0.8],\"min_child_weight\":[1.0]\n",
    "#                             ,'max_depth': [6], 'n_estimators':[1000], 'eta':[0.1]}, verbose=1)\n",
    "reg_cv = GridSearchCV(model, {\"colsample_bytree\":[1.0, 0.8],\"min_child_weight\":[1.0]\n",
    "                            ,'max_depth': [6, 8, 10], 'n_estimators':[800, 1000, 1200], 'eta':[0.1, 0.2]}, verbose=1)\n",
    "reg_cv.fit(X_train,y_train)\n",
    "reg_cv.best_params_"
   ]
  },
  {
   "cell_type": "code",
   "execution_count": null,
   "id": "1efd3963-000a-4e28-9149-d1f397d52cf0",
   "metadata": {},
   "outputs": [],
   "source": [
    "gbm = xgb.XGBRegressor(**reg_cv.best_params_)\n",
    "# gbm = xgb.XGBRegressor(n_estimators=1000, max_depth=7, eta=0.1, subsample=0.7, colsample_bytree=0.8)\n",
    "gbm.fit(X_train,y_train)\n",
    "\n",
    "predictions = gbm.predict(test_df)\n",
    "print(predictions)\n",
    "\n",
    "# print(gbm.score(X_test,y_test))\n",
    "print(gbm.score(X_train,y_train))"
   ]
  },
  {
   "cell_type": "code",
   "execution_count": null,
   "id": "9118fb4f-3b0e-4454-a11c-ba60d344719d",
   "metadata": {},
   "outputs": [],
   "source": [
    "submission = pd.read_csv('sample_submission.csv')\n",
    "submission[submission.columns[1:]] = predictions\n",
    "submission.to_csv('submission.csv', index=False)\n"
   ]
  }
 ],
 "metadata": {
  "kernelspec": {
   "display_name": "Python 3",
   "language": "python",
   "name": "python3"
  },
  "language_info": {
   "codemirror_mode": {
    "name": "ipython",
    "version": 3
   },
   "file_extension": ".py",
   "mimetype": "text/x-python",
   "name": "python",
   "nbconvert_exporter": "python",
   "pygments_lexer": "ipython3",
   "version": "3.8.8"
  }
 },
 "nbformat": 4,
 "nbformat_minor": 5
}
