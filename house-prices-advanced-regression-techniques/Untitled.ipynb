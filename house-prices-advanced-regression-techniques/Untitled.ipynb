{
 "cells": [
  {
   "cell_type": "code",
   "execution_count": 322,
   "id": "d58abb44-07aa-42ac-b9df-929c168bfdc9",
   "metadata": {},
   "outputs": [],
   "source": [
    "import numpy as np\n",
    "import pandas as pd\n",
    "import csv\n",
    "import math\n",
    "\n",
    "from sklearn.preprocessing import OneHotEncoder, LabelEncoder\n",
    "\n",
    "from sklearn.model_selection import train_test_split\n",
    "\n",
    "from sklearn.linear_model import LinearRegression\n",
    "\n",
    "from sklearn.decomposition import PCA"
   ]
  },
  {
   "cell_type": "code",
   "execution_count": 323,
   "id": "c95f3985-bfa0-454d-9d47-4b041930c939",
   "metadata": {},
   "outputs": [],
   "source": [
    "train = pd.read_csv('train.csv')\n",
    "test = pd.read_csv('test.csv')"
   ]
  },
  {
   "cell_type": "code",
   "execution_count": 324,
   "id": "a03ba503-9c15-45e7-b3e1-ae8ce9063797",
   "metadata": {},
   "outputs": [],
   "source": [
    "def isNaN(num):\n",
    "    return num != num\n",
    "\n",
    "def inplaceNAN(data):\n",
    "    count=0\n",
    "    for nanColName in list(data.columns[data.isnull().any()]):\n",
    "        for i in data[nanColName]:\n",
    "            if isNaN(i):\n",
    "                count+=1\n",
    "\n",
    "        data[nanColName].fillna((data[nanColName].mean()), inplace=True)\n",
    "           \n",
    "    print(count)\n",
    "    return data\n"
   ]
  },
  {
   "cell_type": "code",
   "execution_count": 325,
   "id": "05b82236-629a-4c90-87af-342dfa1497d2",
   "metadata": {},
   "outputs": [
    {
     "name": "stdout",
     "output_type": "stream",
     "text": [
      "348\n",
      "330\n"
     ]
    }
   ],
   "source": [
    "# cat_features = train.select_dtypes(exclude=[\"number\",\"bool_\",\"object_\"])\n",
    "cat_features=[i for i in train.columns if train.dtypes[i]=='object']\n",
    "\n",
    "# encoder = OneHotEncoder(handle_unknown='ignore')\n",
    "label_enc = LabelEncoder()\n",
    "\n",
    "for col in cat_features:\n",
    "    label_enc.fit(train[col])\n",
    "    train[col] = label_enc.fit_transform(train[col])\n",
    "    test[col] = label_enc.fit_transform(test[col])\n",
    "\n",
    "train = inplaceNAN(train)\n",
    "test = inplaceNAN(test)"
   ]
  },
  {
   "cell_type": "code",
   "execution_count": 326,
   "id": "74ec4f35-4023-49dc-9782-eac80e144687",
   "metadata": {},
   "outputs": [],
   "source": [
    "# dimensionality reduction later\n",
    "\n",
    "# print(train.shape)\n",
    "# pca = PCA(n_components=2)\n",
    "# train = pca.fit(train)\n",
    "# print(train.shape)\n",
    "\n",
    "# from sklearn.feature_selection import VarianceThreshold\n",
    "# l = VarianceThreshold(threshold=(.5 * (1 - .5)))\n",
    "# l.fit_transform(train).shape"
   ]
  },
  {
   "cell_type": "code",
   "execution_count": null,
   "id": "d3fcfef4-23af-4376-abea-8c01e3d485b0",
   "metadata": {},
   "outputs": [],
   "source": []
  },
  {
   "cell_type": "code",
   "execution_count": null,
   "id": "40dafb59-b8ac-45d9-a877-615087632ce6",
   "metadata": {},
   "outputs": [],
   "source": []
  },
  {
   "cell_type": "code",
   "execution_count": null,
   "id": "60cd67da-b59e-4eed-bc15-4404f97eeaa5",
   "metadata": {},
   "outputs": [],
   "source": []
  },
  {
   "cell_type": "code",
   "execution_count": 327,
   "id": "1092df5e-d3df-4f00-bb48-70cfb06303ff",
   "metadata": {},
   "outputs": [],
   "source": [
    "X = train.iloc[: , :-1]\n",
    "y = train.iloc[: , -1]\n",
    "\n",
    "X_train, X_test, y_train, y_test = train_test_split(X, y, test_size=0.33, random_state=None)\n"
   ]
  },
  {
   "cell_type": "code",
   "execution_count": 328,
   "id": "a619b261-08f2-4adc-91c4-a02c27eb865f",
   "metadata": {},
   "outputs": [
    {
     "data": {
      "text/plain": [
       "0.7311658300803383"
      ]
     },
     "execution_count": 328,
     "metadata": {},
     "output_type": "execute_result"
    }
   ],
   "source": [
    "reg = LinearRegression()\n",
    "reg.fit(X_train, y_train)\n",
    "reg.score(X_test, y_test)"
   ]
  },
  {
   "cell_type": "code",
   "execution_count": 329,
   "id": "e70e7ade-addc-45be-91c3-3d791094ee0e",
   "metadata": {},
   "outputs": [],
   "source": [
    "predArray = reg.predict(test)\n",
    "# predDf = pd.DataFrame(predArray, columns=['Id','SalePrice'])\n",
    "\n",
    "\n",
    "sample_submission = pd.read_csv('sample_submission.csv')\n",
    "\n",
    "output = pd.DataFrame({'Id': sample_submission.Id,\n",
    "'SalePrice': predArray})\n",
    "\n",
    "# predDf.to_csv('submission.csv')\n",
    "output.to_csv('submission.csv', index=False)"
   ]
  },
  {
   "cell_type": "code",
   "execution_count": null,
   "id": "1dc70a6f-c49b-4da7-905e-e0ea9d4837f8",
   "metadata": {},
   "outputs": [],
   "source": []
  },
  {
   "cell_type": "code",
   "execution_count": null,
   "id": "6f709feb-cbaa-4b8b-9f4d-f94abb9d70dc",
   "metadata": {},
   "outputs": [],
   "source": []
  }
 ],
 "metadata": {
  "kernelspec": {
   "display_name": "Python 3",
   "language": "python",
   "name": "python3"
  },
  "language_info": {
   "codemirror_mode": {
    "name": "ipython",
    "version": 3
   },
   "file_extension": ".py",
   "mimetype": "text/x-python",
   "name": "python",
   "nbconvert_exporter": "python",
   "pygments_lexer": "ipython3",
   "version": "3.8.8"
  }
 },
 "nbformat": 4,
 "nbformat_minor": 5
}
