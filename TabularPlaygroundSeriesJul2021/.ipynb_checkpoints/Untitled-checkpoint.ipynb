{
 "cells": [
  {
   "cell_type": "code",
   "execution_count": 2,
   "id": "9281481c-4cd9-455c-84cc-268ca1c86f46",
   "metadata": {},
   "outputs": [],
   "source": [
    "import csv\n",
    "import pandas as pd\n",
    "from sklearn.linear_model import LogisticRegression"
   ]
  },
  {
   "cell_type": "code",
   "execution_count": 9,
   "id": "736486e9-f021-48fc-88ec-9ee0ba267f1b",
   "metadata": {},
   "outputs": [
    {
     "name": "stdout",
     "output_type": "stream",
     "text": [
      "   deg_C  relative_humidity  absolute_humidity  sensor_1  sensor_2  sensor_3  \\\n",
      "0   13.1               46.0             0.7578    1387.2    1087.8    1056.0   \n",
      "1   13.2               45.3             0.7255    1279.1     888.2    1197.5   \n",
      "2   12.6               56.2             0.7502    1331.9     929.6    1060.2   \n",
      "3   11.0               62.4             0.7867    1321.0     929.0    1102.9   \n",
      "4   11.9               59.0             0.7888    1272.0     852.7    1180.9   \n",
      "\n",
      "   sensor_4  sensor_5  target_carbon_monoxide  target_benzene  \\\n",
      "0    1742.8    1293.4                     2.5            12.0   \n",
      "1    1449.9    1010.9                     2.1             9.9   \n",
      "2    1586.1    1117.0                     2.2             9.2   \n",
      "3    1536.5    1263.2                     2.2             9.7   \n",
      "4    1415.5    1132.2                     1.5             6.4   \n",
      "\n",
      "   target_nitrogen_oxides  \n",
      "0                   167.7  \n",
      "1                    98.9  \n",
      "2                   127.1  \n",
      "3                   177.2  \n",
      "4                   121.8  \n"
     ]
    },
    {
     "name": "stderr",
     "output_type": "stream",
     "text": [
      "/Users/rokaspranevicius/opt/anaconda3/lib/python3.8/site-packages/sklearn/linear_model/_logistic.py:763: ConvergenceWarning: lbfgs failed to converge (status=1):\n",
      "STOP: TOTAL NO. of ITERATIONS REACHED LIMIT.\n",
      "\n",
      "Increase the number of iterations (max_iter) or scale the data as shown in:\n",
      "    https://scikit-learn.org/stable/modules/preprocessing.html\n",
      "Please also refer to the documentation for alternative solver options:\n",
      "    https://scikit-learn.org/stable/modules/linear_model.html#logistic-regression\n",
      "  n_iter_i = _check_optimize_result(\n"
     ]
    }
   ],
   "source": [
    "def minMax(x):\n",
    "    return pd.Series(index=['min','max'],data=[x.min(),x.max()])\n",
    "\n",
    "Train = 'train.csv'\n",
    "Test = 'test.csv'\n",
    "Submission = 'sample_submission.csv'\n",
    "\n",
    "getTrain = pd.read_csv(Train)\n",
    "getTest = pd.read_csv(Test)\n",
    "getSubmission = pd.read_csv(Submission)\n",
    "\n",
    "yA = getTrain['target_carbon_monoxide']\n",
    "yB = getTrain['target_benzene']\n",
    "yC = getTrain['target_nitrogen_oxides']\n",
    "\n",
    "\n",
    "# # X = x data without Lab a,b,c\n",
    "# # y data is corresponding to yA,yB,yC. laba,b,c\n",
    "X = getTrain.drop(['target_carbon_monoxide', 'target_benzene', 'target_nitrogen_oxides'], axis=1)\n",
    "X = getTrain.drop(['date_time'], axis=1)\n",
    "print(X.head())\n",
    "\n",
    "from sklearn.preprocessing import MinMaxScaler\n",
    "\n",
    "min_max_scaler = preprocessing.MinMaxScaler()\n",
    "X = min_max_scaler.fit_transform(X)\n",
    "\n",
    "clfA = LogisticRegression(max_iter=1000, random_state=0).fit(X.astype('int'), yA.astype('int'))\n",
    "# clfB = LogisticRegression(max_iter=1000, random_state=0).fit(X.astype('int'), yB.astype('int'))\n",
    "# clfC = LogisticRegression(max_iter=1000, random_state=0).fit(X.astype('int'), yC.astype('int'))"
   ]
  },
  {
   "cell_type": "code",
   "execution_count": null,
   "id": "6ce4add1-1750-4367-b2f2-98c28c2935d8",
   "metadata": {},
   "outputs": [],
   "source": []
  }
 ],
 "metadata": {
  "kernelspec": {
   "display_name": "Python 3",
   "language": "python",
   "name": "python3"
  },
  "language_info": {
   "codemirror_mode": {
    "name": "ipython",
    "version": 3
   },
   "file_extension": ".py",
   "mimetype": "text/x-python",
   "name": "python",
   "nbconvert_exporter": "python",
   "pygments_lexer": "ipython3",
   "version": "3.8.8"
  }
 },
 "nbformat": 4,
 "nbformat_minor": 5
}
